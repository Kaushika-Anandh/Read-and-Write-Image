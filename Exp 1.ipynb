{
 "cells": [
  {
   "cell_type": "code",
   "execution_count": 10,
   "id": "be1fb180",
   "metadata": {},
   "outputs": [],
   "source": [
    "import cv2\n",
    "import numpy as np\n",
    "import matplotlib.pyplot as plt"
   ]
  },
  {
   "cell_type": "code",
   "execution_count": 11,
   "id": "7a5636db",
   "metadata": {},
   "outputs": [],
   "source": [
    "img=cv2.imread(\"megumi.jpg\",1)\n",
    "cv2.imshow(\"image\",img)\n",
    "cv2.waitKey(0)\n",
    "cv2.destroyAllWindows()"
   ]
  },
  {
   "cell_type": "code",
   "execution_count": 12,
   "id": "453f63d4",
   "metadata": {},
   "outputs": [],
   "source": [
    "img2=cv2.imread(\"megumi.jpg\",0)\n",
    "cv2.imshow(\"image\",img2)\n",
    "cv2.waitKey(0)\n",
    "cv2.destroyAllWindows()"
   ]
  },
  {
   "cell_type": "code",
   "execution_count": 13,
   "id": "e7bd722b",
   "metadata": {},
   "outputs": [
    {
     "data": {
      "text/plain": [
       "True"
      ]
     },
     "execution_count": 13,
     "metadata": {},
     "output_type": "execute_result"
    }
   ],
   "source": [
    "cv2.imwrite('saved_original.jpg',img)\n",
    "cv2.imwrite('saved_grayscale.jpg',img2)"
   ]
  },
  {
   "cell_type": "code",
   "execution_count": 14,
   "id": "4bade0ee",
   "metadata": {},
   "outputs": [
    {
     "name": "stdout",
     "output_type": "stream",
     "text": [
      "(544, 544, 3)\n",
      "(544, 544)\n"
     ]
    }
   ],
   "source": [
    "print(img.shape)\n",
    "print(img2.shape)"
   ]
  },
  {
   "cell_type": "code",
   "execution_count": 15,
   "id": "b89867fa",
   "metadata": {},
   "outputs": [],
   "source": [
    "import random\n",
    "for i in range(172,373):\n",
    "    for j in range(172,373):\n",
    "        img[i][j]=[random.randint(0,255),random.randint(0,255),random.randint(0,255)]\n",
    "cv2.imshow('part image',img)\n",
    "cv2.waitKey(0)\n",
    "cv2.destroyAllWindows()"
   ]
  },
  {
   "cell_type": "code",
   "execution_count": 24,
   "id": "2cafd7ec",
   "metadata": {},
   "outputs": [],
   "source": [
    "img3=cv2.imread(\"megumi.jpg\",1)\n",
    "cut=img3[172:221,172:373]\n",
    "img3[221:270,172:373]=cut\n",
    "cv2.imshow('212221230048',img3)\n",
    "cv2.waitKey(0)\n",
    "cv2.destroyAllWindows()"
   ]
  }
 ],
 "metadata": {
  "kernelspec": {
   "display_name": "Python 3 (ipykernel)",
   "language": "python",
   "name": "python3"
  },
  "language_info": {
   "codemirror_mode": {
    "name": "ipython",
    "version": 3
   },
   "file_extension": ".py",
   "mimetype": "text/x-python",
   "name": "python",
   "nbconvert_exporter": "python",
   "pygments_lexer": "ipython3",
   "version": "3.9.13"
  }
 },
 "nbformat": 4,
 "nbformat_minor": 5
}
